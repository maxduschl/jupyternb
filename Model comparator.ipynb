{
 "cells": [
  {
   "cell_type": "code",
   "execution_count": 4,
   "metadata": {},
   "outputs": [],
   "source": [
    "import pandas as pd\n",
    "import pickle as pkl\n",
    "import numpy as np\n",
    "import json\n",
    "import xlsxwriter"
   ]
  },
  {
   "cell_type": "code",
   "execution_count": 2,
   "metadata": {},
   "outputs": [],
   "source": [
    "with open(\"models_v1_1216.pkl\", \"rb\") as file1:\n",
    "    model1 = pkl.load(file1)\n",
    "\n",
    "with open(\"models_v2_1216.pkl\", \"rb\") as file2:\n",
    "    model2 = pkl.load(file2)"
   ]
  },
  {
   "cell_type": "markdown",
   "metadata": {},
   "source": [
    "---"
   ]
  },
  {
   "cell_type": "markdown",
   "metadata": {},
   "source": [
    "Json generated with GraphQL that maps the external ID with the name of the sensor. Can be found in the \"aux_files\" folder."
   ]
  },
  {
   "cell_type": "code",
   "execution_count": 8,
   "metadata": {},
   "outputs": [],
   "source": [
    "with open(\"sens_id_name.json\") as file:\n",
    "    sens_names = json.load(file)\n",
    "    \n",
    "sens_id_name = {}\n",
    "for sens in sens_names['data']['sensors']:\n",
    "    sens_id_name[sens['externalId']] = sens['name']"
   ]
  },
  {
   "cell_type": "markdown",
   "metadata": {},
   "source": [
    "---"
   ]
  },
  {
   "cell_type": "markdown",
   "metadata": {},
   "source": [
    "Recipes data in h5 format. Can be found in the \"aux_files\" folder."
   ]
  },
  {
   "cell_type": "code",
   "execution_count": 9,
   "metadata": {},
   "outputs": [],
   "source": [
    "recipes = pd.read_hdf(\"recipes_data.h5\")"
   ]
  },
  {
   "cell_type": "markdown",
   "metadata": {},
   "source": [
    "parampredmodels table exported as csv file using pgAdmin:"
   ]
  },
  {
   "cell_type": "code",
   "execution_count": 5,
   "metadata": {},
   "outputs": [],
   "source": [
    "models_index = pd.read_csv(\"parampredmodels_1216.csv\")\n",
    "models_index = models_index[['id', 'variant']]"
   ]
  },
  {
   "cell_type": "markdown",
   "metadata": {},
   "source": [
    "predictions table exported as csv file using pgAdmin:"
   ]
  },
  {
   "cell_type": "code",
   "execution_count": 6,
   "metadata": {},
   "outputs": [],
   "source": [
    "preds_csv = pd.read_csv(\"predictions_1216.csv\")"
   ]
  },
  {
   "cell_type": "code",
   "execution_count": 7,
   "metadata": {},
   "outputs": [],
   "source": [
    "tmp = pd.merge(preds_csv, models_index, left_on=\"param_pred_model_id\", right_on=\"id\")\n",
    "tmp = tmp.iloc[20:, :]"
   ]
  },
  {
   "cell_type": "code",
   "execution_count": 8,
   "metadata": {},
   "outputs": [
    {
     "data": {
      "text/html": [
       "<div>\n",
       "<style scoped>\n",
       "    .dataframe tbody tr th:only-of-type {\n",
       "        vertical-align: middle;\n",
       "    }\n",
       "\n",
       "    .dataframe tbody tr th {\n",
       "        vertical-align: top;\n",
       "    }\n",
       "\n",
       "    .dataframe thead th {\n",
       "        text-align: right;\n",
       "    }\n",
       "</style>\n",
       "<table border=\"1\" class=\"dataframe\">\n",
       "  <thead>\n",
       "    <tr style=\"text-align: right;\">\n",
       "      <th></th>\n",
       "      <th>id_x</th>\n",
       "      <th>prediction_json</th>\n",
       "      <th>param_pred_model_id</th>\n",
       "      <th>timestamp</th>\n",
       "      <th>comment</th>\n",
       "      <th>current_values_json</th>\n",
       "      <th>id_y</th>\n",
       "      <th>variant</th>\n",
       "    </tr>\n",
       "  </thead>\n",
       "  <tbody>\n",
       "    <tr>\n",
       "      <th>20</th>\n",
       "      <td>21</td>\n",
       "      <td>{\"704\": 1.0, \"315\": 25.0, \"703\": 3000.0, \"115\"...</td>\n",
       "      <td>7</td>\n",
       "      <td>1571829376</td>\n",
       "      <td>NaN</td>\n",
       "      <td>{\"704\": 1.0, \"315\": 25.0, \"703\": 3000.0, \"115\"...</td>\n",
       "      <td>7</td>\n",
       "      <td>ME_EXPL45.100.01</td>\n",
       "    </tr>\n",
       "    <tr>\n",
       "      <th>21</th>\n",
       "      <td>22</td>\n",
       "      <td>{\"704\": 1.0, \"315\": 25.0, \"703\": 3000.0, \"115\"...</td>\n",
       "      <td>7</td>\n",
       "      <td>1571829505</td>\n",
       "      <td>NaN</td>\n",
       "      <td>{\"704\": 1.0, \"315\": 25.0, \"703\": 3000.0, \"115\"...</td>\n",
       "      <td>7</td>\n",
       "      <td>ME_EXPL45.100.01</td>\n",
       "    </tr>\n",
       "    <tr>\n",
       "      <th>22</th>\n",
       "      <td>23</td>\n",
       "      <td>{\"704\": 1.0, \"315\": 25.0, \"703\": 3000.00000000...</td>\n",
       "      <td>7</td>\n",
       "      <td>1571829968</td>\n",
       "      <td>NaN</td>\n",
       "      <td>{\"704\": 1.0, \"315\": 25.0, \"703\": 3000.0, \"115\"...</td>\n",
       "      <td>7</td>\n",
       "      <td>ME_EXPL45.100.01</td>\n",
       "    </tr>\n",
       "    <tr>\n",
       "      <th>23</th>\n",
       "      <td>24</td>\n",
       "      <td>{\"704\": 1.0, \"315\": 25.0, \"703\": 2999.99999999...</td>\n",
       "      <td>7</td>\n",
       "      <td>1571830185</td>\n",
       "      <td>NaN</td>\n",
       "      <td>{\"704\": 1.0, \"315\": 25.0, \"703\": 3000.0, \"115\"...</td>\n",
       "      <td>7</td>\n",
       "      <td>ME_EXPL45.100.01</td>\n",
       "    </tr>\n",
       "    <tr>\n",
       "      <th>24</th>\n",
       "      <td>25</td>\n",
       "      <td>{\"704\": 1.0, \"315\": 25.0, \"703\": 3000.0, \"115\"...</td>\n",
       "      <td>7</td>\n",
       "      <td>1571830759</td>\n",
       "      <td>NaN</td>\n",
       "      <td>{\"704\": 1.0, \"315\": 25.0, \"703\": 3000.0, \"115\"...</td>\n",
       "      <td>7</td>\n",
       "      <td>ME_EXPL45.100.01</td>\n",
       "    </tr>\n",
       "  </tbody>\n",
       "</table>\n",
       "</div>"
      ],
      "text/plain": [
       "    id_x                                    prediction_json  \\\n",
       "20    21  {\"704\": 1.0, \"315\": 25.0, \"703\": 3000.0, \"115\"...   \n",
       "21    22  {\"704\": 1.0, \"315\": 25.0, \"703\": 3000.0, \"115\"...   \n",
       "22    23  {\"704\": 1.0, \"315\": 25.0, \"703\": 3000.00000000...   \n",
       "23    24  {\"704\": 1.0, \"315\": 25.0, \"703\": 2999.99999999...   \n",
       "24    25  {\"704\": 1.0, \"315\": 25.0, \"703\": 3000.0, \"115\"...   \n",
       "\n",
       "    param_pred_model_id   timestamp comment  \\\n",
       "20                    7  1571829376     NaN   \n",
       "21                    7  1571829505     NaN   \n",
       "22                    7  1571829968     NaN   \n",
       "23                    7  1571830185     NaN   \n",
       "24                    7  1571830759     NaN   \n",
       "\n",
       "                                  current_values_json  id_y           variant  \n",
       "20  {\"704\": 1.0, \"315\": 25.0, \"703\": 3000.0, \"115\"...     7  ME_EXPL45.100.01  \n",
       "21  {\"704\": 1.0, \"315\": 25.0, \"703\": 3000.0, \"115\"...     7  ME_EXPL45.100.01  \n",
       "22  {\"704\": 1.0, \"315\": 25.0, \"703\": 3000.0, \"115\"...     7  ME_EXPL45.100.01  \n",
       "23  {\"704\": 1.0, \"315\": 25.0, \"703\": 3000.0, \"115\"...     7  ME_EXPL45.100.01  \n",
       "24  {\"704\": 1.0, \"315\": 25.0, \"703\": 3000.0, \"115\"...     7  ME_EXPL45.100.01  "
      ]
     },
     "execution_count": 8,
     "metadata": {},
     "output_type": "execute_result"
    }
   ],
   "source": [
    "tmp.head()"
   ]
  },
  {
   "cell_type": "code",
   "execution_count": 9,
   "metadata": {},
   "outputs": [],
   "source": [
    "preds = pd.DataFrame()\n",
    "\n",
    "for row in tmp[[\"prediction_json\", \"variant\", \"id_x\"]].iterrows():\n",
    "    aux = pd.DataFrame(json.loads(row[1][0]), index=[0])\n",
    "    aux[\"variant\"] = row[1][1]\n",
    "    aux[\"ID\"] = row[1][2]\n",
    "    preds = pd.concat([preds, aux])\n",
    "\n",
    "preds.reset_index(inplace=True, drop=True)"
   ]
  },
  {
   "cell_type": "code",
   "execution_count": 10,
   "metadata": {},
   "outputs": [
    {
     "data": {
      "text/html": [
       "<div>\n",
       "<style scoped>\n",
       "    .dataframe tbody tr th:only-of-type {\n",
       "        vertical-align: middle;\n",
       "    }\n",
       "\n",
       "    .dataframe tbody tr th {\n",
       "        vertical-align: top;\n",
       "    }\n",
       "\n",
       "    .dataframe thead th {\n",
       "        text-align: right;\n",
       "    }\n",
       "</style>\n",
       "<table border=\"1\" class=\"dataframe\">\n",
       "  <thead>\n",
       "    <tr style=\"text-align: right;\">\n",
       "      <th></th>\n",
       "      <th>704</th>\n",
       "      <th>315</th>\n",
       "      <th>703</th>\n",
       "      <th>115</th>\n",
       "      <th>114</th>\n",
       "      <th>117</th>\n",
       "      <th>116</th>\n",
       "      <th>111</th>\n",
       "      <th>110</th>\n",
       "      <th>113</th>\n",
       "      <th>...</th>\n",
       "      <th>109</th>\n",
       "      <th>102</th>\n",
       "      <th>103</th>\n",
       "      <th>101</th>\n",
       "      <th>106</th>\n",
       "      <th>107</th>\n",
       "      <th>104</th>\n",
       "      <th>105</th>\n",
       "      <th>variant</th>\n",
       "      <th>ID</th>\n",
       "    </tr>\n",
       "  </thead>\n",
       "  <tbody>\n",
       "    <tr>\n",
       "      <th>0</th>\n",
       "      <td>1.0</td>\n",
       "      <td>25.0</td>\n",
       "      <td>3000.0</td>\n",
       "      <td>65.0</td>\n",
       "      <td>99.067075</td>\n",
       "      <td>65.0</td>\n",
       "      <td>104.067075</td>\n",
       "      <td>65.0</td>\n",
       "      <td>97.286483</td>\n",
       "      <td>65.0</td>\n",
       "      <td>...</td>\n",
       "      <td>50.0</td>\n",
       "      <td>104.231343</td>\n",
       "      <td>65.0</td>\n",
       "      <td>82.441457</td>\n",
       "      <td>50.0</td>\n",
       "      <td>50.0</td>\n",
       "      <td>104.780017</td>\n",
       "      <td>65.0</td>\n",
       "      <td>ME_EXPL45.100.01</td>\n",
       "      <td>21</td>\n",
       "    </tr>\n",
       "    <tr>\n",
       "      <th>1</th>\n",
       "      <td>1.0</td>\n",
       "      <td>25.0</td>\n",
       "      <td>3000.0</td>\n",
       "      <td>65.0</td>\n",
       "      <td>99.085487</td>\n",
       "      <td>65.0</td>\n",
       "      <td>104.085487</td>\n",
       "      <td>65.0</td>\n",
       "      <td>97.291153</td>\n",
       "      <td>65.0</td>\n",
       "      <td>...</td>\n",
       "      <td>50.0</td>\n",
       "      <td>104.232407</td>\n",
       "      <td>65.0</td>\n",
       "      <td>82.438539</td>\n",
       "      <td>50.0</td>\n",
       "      <td>50.0</td>\n",
       "      <td>104.779676</td>\n",
       "      <td>65.0</td>\n",
       "      <td>ME_EXPL45.100.01</td>\n",
       "      <td>22</td>\n",
       "    </tr>\n",
       "    <tr>\n",
       "      <th>2</th>\n",
       "      <td>1.0</td>\n",
       "      <td>25.0</td>\n",
       "      <td>3000.0</td>\n",
       "      <td>65.0</td>\n",
       "      <td>99.065602</td>\n",
       "      <td>65.0</td>\n",
       "      <td>104.065602</td>\n",
       "      <td>65.0</td>\n",
       "      <td>97.285380</td>\n",
       "      <td>65.0</td>\n",
       "      <td>...</td>\n",
       "      <td>50.0</td>\n",
       "      <td>104.228700</td>\n",
       "      <td>65.0</td>\n",
       "      <td>82.443101</td>\n",
       "      <td>50.0</td>\n",
       "      <td>50.0</td>\n",
       "      <td>104.776750</td>\n",
       "      <td>65.0</td>\n",
       "      <td>ME_EXPL45.100.01</td>\n",
       "      <td>23</td>\n",
       "    </tr>\n",
       "    <tr>\n",
       "      <th>3</th>\n",
       "      <td>1.0</td>\n",
       "      <td>25.0</td>\n",
       "      <td>3000.0</td>\n",
       "      <td>65.0</td>\n",
       "      <td>99.068398</td>\n",
       "      <td>65.0</td>\n",
       "      <td>104.068398</td>\n",
       "      <td>65.0</td>\n",
       "      <td>97.283818</td>\n",
       "      <td>65.0</td>\n",
       "      <td>...</td>\n",
       "      <td>50.0</td>\n",
       "      <td>104.223293</td>\n",
       "      <td>65.0</td>\n",
       "      <td>82.444219</td>\n",
       "      <td>50.0</td>\n",
       "      <td>50.0</td>\n",
       "      <td>104.771241</td>\n",
       "      <td>65.0</td>\n",
       "      <td>ME_EXPL45.100.01</td>\n",
       "      <td>24</td>\n",
       "    </tr>\n",
       "    <tr>\n",
       "      <th>4</th>\n",
       "      <td>1.0</td>\n",
       "      <td>25.0</td>\n",
       "      <td>3000.0</td>\n",
       "      <td>65.0</td>\n",
       "      <td>97.688861</td>\n",
       "      <td>65.0</td>\n",
       "      <td>102.688861</td>\n",
       "      <td>65.0</td>\n",
       "      <td>97.688861</td>\n",
       "      <td>65.0</td>\n",
       "      <td>...</td>\n",
       "      <td>50.0</td>\n",
       "      <td>105.846897</td>\n",
       "      <td>65.0</td>\n",
       "      <td>82.975589</td>\n",
       "      <td>50.0</td>\n",
       "      <td>50.0</td>\n",
       "      <td>106.316071</td>\n",
       "      <td>65.0</td>\n",
       "      <td>ME_EXPL45.100.01</td>\n",
       "      <td>25</td>\n",
       "    </tr>\n",
       "  </tbody>\n",
       "</table>\n",
       "<p>5 rows × 34 columns</p>\n",
       "</div>"
      ],
      "text/plain": [
       "   704   315     703   115        114   117         116   111        110  \\\n",
       "0  1.0  25.0  3000.0  65.0  99.067075  65.0  104.067075  65.0  97.286483   \n",
       "1  1.0  25.0  3000.0  65.0  99.085487  65.0  104.085487  65.0  97.291153   \n",
       "2  1.0  25.0  3000.0  65.0  99.065602  65.0  104.065602  65.0  97.285380   \n",
       "3  1.0  25.0  3000.0  65.0  99.068398  65.0  104.068398  65.0  97.283818   \n",
       "4  1.0  25.0  3000.0  65.0  97.688861  65.0  102.688861  65.0  97.688861   \n",
       "\n",
       "    113  ...   109         102   103        101   106   107         104   105  \\\n",
       "0  65.0  ...  50.0  104.231343  65.0  82.441457  50.0  50.0  104.780017  65.0   \n",
       "1  65.0  ...  50.0  104.232407  65.0  82.438539  50.0  50.0  104.779676  65.0   \n",
       "2  65.0  ...  50.0  104.228700  65.0  82.443101  50.0  50.0  104.776750  65.0   \n",
       "3  65.0  ...  50.0  104.223293  65.0  82.444219  50.0  50.0  104.771241  65.0   \n",
       "4  65.0  ...  50.0  105.846897  65.0  82.975589  50.0  50.0  106.316071  65.0   \n",
       "\n",
       "            variant  ID  \n",
       "0  ME_EXPL45.100.01  21  \n",
       "1  ME_EXPL45.100.01  22  \n",
       "2  ME_EXPL45.100.01  23  \n",
       "3  ME_EXPL45.100.01  24  \n",
       "4  ME_EXPL45.100.01  25  \n",
       "\n",
       "[5 rows x 34 columns]"
      ]
     },
     "execution_count": 10,
     "metadata": {},
     "output_type": "execute_result"
    }
   ],
   "source": [
    "preds.head()"
   ]
  },
  {
   "cell_type": "code",
   "execution_count": 23,
   "metadata": {},
   "outputs": [],
   "source": [
    "cur_vals = pd.DataFrame()\n",
    "\n",
    "for row in tmp[[\"current_values_json\", \"variant\", \"id_x\"]].iterrows():\n",
    "    aux = pd.DataFrame(json.loads(row[1][0]), index=[0])\n",
    "    aux[\"variant\"] = row[1][1]\n",
    "    aux[\"ID\"] = row[1][2]\n",
    "    cur_vals = pd.concat([cur_vals, aux], sort=True)\n",
    "\n",
    "cur_vals.reset_index(inplace=True, drop=True)"
   ]
  },
  {
   "cell_type": "code",
   "execution_count": 24,
   "metadata": {
    "scrolled": true
   },
   "outputs": [
    {
     "data": {
      "text/html": [
       "<div>\n",
       "<style scoped>\n",
       "    .dataframe tbody tr th:only-of-type {\n",
       "        vertical-align: middle;\n",
       "    }\n",
       "\n",
       "    .dataframe tbody tr th {\n",
       "        vertical-align: top;\n",
       "    }\n",
       "\n",
       "    .dataframe thead th {\n",
       "        text-align: right;\n",
       "    }\n",
       "</style>\n",
       "<table border=\"1\" class=\"dataframe\">\n",
       "  <thead>\n",
       "    <tr style=\"text-align: right;\">\n",
       "      <th></th>\n",
       "      <th>1</th>\n",
       "      <th>101</th>\n",
       "      <th>102</th>\n",
       "      <th>103</th>\n",
       "      <th>104</th>\n",
       "      <th>105</th>\n",
       "      <th>106</th>\n",
       "      <th>107</th>\n",
       "      <th>108</th>\n",
       "      <th>109</th>\n",
       "      <th>...</th>\n",
       "      <th>702</th>\n",
       "      <th>703</th>\n",
       "      <th>704</th>\n",
       "      <th>801</th>\n",
       "      <th>802</th>\n",
       "      <th>803</th>\n",
       "      <th>804</th>\n",
       "      <th>805</th>\n",
       "      <th>ID</th>\n",
       "      <th>variant</th>\n",
       "    </tr>\n",
       "  </thead>\n",
       "  <tbody>\n",
       "    <tr>\n",
       "      <th>0</th>\n",
       "      <td>NaN</td>\n",
       "      <td>82.0</td>\n",
       "      <td>105.0</td>\n",
       "      <td>65.0</td>\n",
       "      <td>105.0</td>\n",
       "      <td>65.0</td>\n",
       "      <td>50.0</td>\n",
       "      <td>50.0</td>\n",
       "      <td>50.0</td>\n",
       "      <td>50.0</td>\n",
       "      <td>...</td>\n",
       "      <td>NaN</td>\n",
       "      <td>3000.0</td>\n",
       "      <td>1.0</td>\n",
       "      <td>NaN</td>\n",
       "      <td>NaN</td>\n",
       "      <td>NaN</td>\n",
       "      <td>NaN</td>\n",
       "      <td>NaN</td>\n",
       "      <td>21</td>\n",
       "      <td>ME_EXPL45.100.01</td>\n",
       "    </tr>\n",
       "    <tr>\n",
       "      <th>1</th>\n",
       "      <td>NaN</td>\n",
       "      <td>82.0</td>\n",
       "      <td>105.0</td>\n",
       "      <td>65.0</td>\n",
       "      <td>105.0</td>\n",
       "      <td>65.0</td>\n",
       "      <td>50.0</td>\n",
       "      <td>50.0</td>\n",
       "      <td>50.0</td>\n",
       "      <td>50.0</td>\n",
       "      <td>...</td>\n",
       "      <td>NaN</td>\n",
       "      <td>3000.0</td>\n",
       "      <td>1.0</td>\n",
       "      <td>NaN</td>\n",
       "      <td>NaN</td>\n",
       "      <td>NaN</td>\n",
       "      <td>NaN</td>\n",
       "      <td>NaN</td>\n",
       "      <td>22</td>\n",
       "      <td>ME_EXPL45.100.01</td>\n",
       "    </tr>\n",
       "    <tr>\n",
       "      <th>2</th>\n",
       "      <td>NaN</td>\n",
       "      <td>82.0</td>\n",
       "      <td>105.0</td>\n",
       "      <td>65.0</td>\n",
       "      <td>105.0</td>\n",
       "      <td>65.0</td>\n",
       "      <td>50.0</td>\n",
       "      <td>50.0</td>\n",
       "      <td>50.0</td>\n",
       "      <td>50.0</td>\n",
       "      <td>...</td>\n",
       "      <td>NaN</td>\n",
       "      <td>3000.0</td>\n",
       "      <td>1.0</td>\n",
       "      <td>NaN</td>\n",
       "      <td>NaN</td>\n",
       "      <td>NaN</td>\n",
       "      <td>NaN</td>\n",
       "      <td>NaN</td>\n",
       "      <td>23</td>\n",
       "      <td>ME_EXPL45.100.01</td>\n",
       "    </tr>\n",
       "    <tr>\n",
       "      <th>3</th>\n",
       "      <td>NaN</td>\n",
       "      <td>82.0</td>\n",
       "      <td>105.0</td>\n",
       "      <td>65.0</td>\n",
       "      <td>105.0</td>\n",
       "      <td>65.0</td>\n",
       "      <td>50.0</td>\n",
       "      <td>50.0</td>\n",
       "      <td>50.0</td>\n",
       "      <td>50.0</td>\n",
       "      <td>...</td>\n",
       "      <td>NaN</td>\n",
       "      <td>3000.0</td>\n",
       "      <td>1.0</td>\n",
       "      <td>NaN</td>\n",
       "      <td>NaN</td>\n",
       "      <td>NaN</td>\n",
       "      <td>NaN</td>\n",
       "      <td>NaN</td>\n",
       "      <td>24</td>\n",
       "      <td>ME_EXPL45.100.01</td>\n",
       "    </tr>\n",
       "    <tr>\n",
       "      <th>4</th>\n",
       "      <td>NaN</td>\n",
       "      <td>82.0</td>\n",
       "      <td>105.0</td>\n",
       "      <td>65.0</td>\n",
       "      <td>105.0</td>\n",
       "      <td>65.0</td>\n",
       "      <td>50.0</td>\n",
       "      <td>50.0</td>\n",
       "      <td>50.0</td>\n",
       "      <td>50.0</td>\n",
       "      <td>...</td>\n",
       "      <td>NaN</td>\n",
       "      <td>3000.0</td>\n",
       "      <td>1.0</td>\n",
       "      <td>NaN</td>\n",
       "      <td>NaN</td>\n",
       "      <td>NaN</td>\n",
       "      <td>NaN</td>\n",
       "      <td>NaN</td>\n",
       "      <td>25</td>\n",
       "      <td>ME_EXPL45.100.01</td>\n",
       "    </tr>\n",
       "  </tbody>\n",
       "</table>\n",
       "<p>5 rows × 136 columns</p>\n",
       "</div>"
      ],
      "text/plain": [
       "    1   101    102   103    104   105   106   107   108   109  ...  702  \\\n",
       "0 NaN  82.0  105.0  65.0  105.0  65.0  50.0  50.0  50.0  50.0  ...  NaN   \n",
       "1 NaN  82.0  105.0  65.0  105.0  65.0  50.0  50.0  50.0  50.0  ...  NaN   \n",
       "2 NaN  82.0  105.0  65.0  105.0  65.0  50.0  50.0  50.0  50.0  ...  NaN   \n",
       "3 NaN  82.0  105.0  65.0  105.0  65.0  50.0  50.0  50.0  50.0  ...  NaN   \n",
       "4 NaN  82.0  105.0  65.0  105.0  65.0  50.0  50.0  50.0  50.0  ...  NaN   \n",
       "\n",
       "      703  704  801  802  803  804  805  ID           variant  \n",
       "0  3000.0  1.0  NaN  NaN  NaN  NaN  NaN  21  ME_EXPL45.100.01  \n",
       "1  3000.0  1.0  NaN  NaN  NaN  NaN  NaN  22  ME_EXPL45.100.01  \n",
       "2  3000.0  1.0  NaN  NaN  NaN  NaN  NaN  23  ME_EXPL45.100.01  \n",
       "3  3000.0  1.0  NaN  NaN  NaN  NaN  NaN  24  ME_EXPL45.100.01  \n",
       "4  3000.0  1.0  NaN  NaN  NaN  NaN  NaN  25  ME_EXPL45.100.01  \n",
       "\n",
       "[5 rows x 136 columns]"
      ]
     },
     "execution_count": 24,
     "metadata": {},
     "output_type": "execute_result"
    }
   ],
   "source": [
    "cur_vals.head()"
   ]
  },
  {
   "cell_type": "code",
   "execution_count": 26,
   "metadata": {},
   "outputs": [],
   "source": [
    "all_variants = cur_vals['variant'].unique().tolist()"
   ]
  },
  {
   "cell_type": "code",
   "execution_count": 28,
   "metadata": {},
   "outputs": [],
   "source": [
    "# Add here variants that were already checked!\n",
    "variants_in_v2 = ['ME_EXPL45.100.01', 'ME_EXPL65.085.01', 'ME_EXPL40.100.01', 'ME_EXPL40.100.02', 'ME_EXPL45.085.05', 'ME_EXPL60.075.06', 'ME_EXPL60.100.02']"
   ]
  },
  {
   "cell_type": "code",
   "execution_count": 32,
   "metadata": {},
   "outputs": [
    {
     "data": {
      "text/plain": [
       "['ME_EXPL45.075.01']"
      ]
     },
     "execution_count": 32,
     "metadata": {},
     "output_type": "execute_result"
    }
   ],
   "source": [
    "variants_to_check = list(set(all_variants) - set(variants_in_v2))\n",
    "variants_to_check"
   ]
  },
  {
   "cell_type": "code",
   "execution_count": 34,
   "metadata": {
    "scrolled": true
   },
   "outputs": [
    {
     "data": {
      "text/html": [
       "<div>\n",
       "<style scoped>\n",
       "    .dataframe tbody tr th:only-of-type {\n",
       "        vertical-align: middle;\n",
       "    }\n",
       "\n",
       "    .dataframe tbody tr th {\n",
       "        vertical-align: top;\n",
       "    }\n",
       "\n",
       "    .dataframe thead th {\n",
       "        text-align: right;\n",
       "    }\n",
       "</style>\n",
       "<table border=\"1\" class=\"dataframe\">\n",
       "  <thead>\n",
       "    <tr style=\"text-align: right;\">\n",
       "      <th></th>\n",
       "      <th>1</th>\n",
       "      <th>101</th>\n",
       "      <th>102</th>\n",
       "      <th>103</th>\n",
       "      <th>104</th>\n",
       "      <th>105</th>\n",
       "      <th>106</th>\n",
       "      <th>107</th>\n",
       "      <th>108</th>\n",
       "      <th>109</th>\n",
       "      <th>...</th>\n",
       "      <th>702</th>\n",
       "      <th>703</th>\n",
       "      <th>704</th>\n",
       "      <th>801</th>\n",
       "      <th>802</th>\n",
       "      <th>803</th>\n",
       "      <th>804</th>\n",
       "      <th>805</th>\n",
       "      <th>ID</th>\n",
       "      <th>variant</th>\n",
       "    </tr>\n",
       "  </thead>\n",
       "  <tbody>\n",
       "    <tr>\n",
       "      <th>103</th>\n",
       "      <td>NaN</td>\n",
       "      <td>55.0</td>\n",
       "      <td>90.0</td>\n",
       "      <td>65.0</td>\n",
       "      <td>95.0</td>\n",
       "      <td>65.0</td>\n",
       "      <td>90.0</td>\n",
       "      <td>65.0</td>\n",
       "      <td>90.0</td>\n",
       "      <td>65.0</td>\n",
       "      <td>...</td>\n",
       "      <td>NaN</td>\n",
       "      <td>31.0</td>\n",
       "      <td>1.0</td>\n",
       "      <td>NaN</td>\n",
       "      <td>NaN</td>\n",
       "      <td>NaN</td>\n",
       "      <td>NaN</td>\n",
       "      <td>NaN</td>\n",
       "      <td>92</td>\n",
       "      <td>ME_EXPL45.075.01</td>\n",
       "    </tr>\n",
       "  </tbody>\n",
       "</table>\n",
       "<p>1 rows × 136 columns</p>\n",
       "</div>"
      ],
      "text/plain": [
       "      1   101   102   103   104   105   106   107   108   109  ...  702   703  \\\n",
       "103 NaN  55.0  90.0  65.0  95.0  65.0  90.0  65.0  90.0  65.0  ...  NaN  31.0   \n",
       "\n",
       "     704  801  802  803  804  805  ID           variant  \n",
       "103  1.0  NaN  NaN  NaN  NaN  NaN  92  ME_EXPL45.075.01  \n",
       "\n",
       "[1 rows x 136 columns]"
      ]
     },
     "execution_count": 34,
     "metadata": {},
     "output_type": "execute_result"
    }
   ],
   "source": [
    "cur_vals_to_check = cur_vals[cur_vals['variant'].isin(variants_to_check)]\n",
    "cur_vals_to_check"
   ]
  },
  {
   "cell_type": "code",
   "execution_count": 18,
   "metadata": {},
   "outputs": [],
   "source": [
    "workbook  = xlsxwriter.Workbook('models_comparison_1216.xlsx')"
   ]
  },
  {
   "cell_type": "code",
   "execution_count": 48,
   "metadata": {},
   "outputs": [
    {
     "name": "stdout",
     "output_type": "stream",
     "text": [
      "Processing prediction ID 92. Variant ME_EXPL45.075.01.\n",
      "Warning NaN found. Impossible to perform a prediction...\n"
     ]
    }
   ],
   "source": [
    "for row in cur_vals_to_check.iterrows():\n",
    "    id_ = row[1][\"ID\"]\n",
    "    variant = row[1][\"variant\"]\n",
    "    print(f\"Processing prediction ID {id_}. Variant {variant}.\")\n",
    "    # model1\n",
    "    scaler1 = model1['scaler']\n",
    "    scaler1.copy = False\n",
    "    m1 = model1['models'][variant]['model']\n",
    "    act_tags = model1['models'][variant]['act_sensor_tags']\n",
    "    act_tags_str = [str(t) for t in act_tags]\n",
    "    set_tags = model1['models'][variant]['set_sensor_tags']\n",
    "    set_tags_str = [str(t) for t in set_tags]\n",
    "    X = []\n",
    "    for tag in act_tags_str:\n",
    "        X.append(row[1][str(tag)])\n",
    "    if np.any(np.isnan(X)):\n",
    "        print(\"Warning NaN found. Impossible to perform a prediction...\")\n",
    "        continue\n",
    "    scaler1.transform([X])\n",
    "    X+=[5,5,5]\n",
    "    X = np.asarray(X)\n",
    "    X = X.reshape(1,-1)\n",
    "    print(X)\n",
    "    p1 = m1.predict(X)\n",
    "    res1 = dict(zip(set_tags, *p1))\n",
    "\n",
    "    # model2\n",
    "    scaler2 = model2['scaler']\n",
    "    scaler2.copy = False\n",
    "    m2 = model2['models'][variant]['model']\n",
    "    act_tags = model2['models'][variant]['act_sensor_tags']\n",
    "    act_tags_str = [str(t) for t in act_tags]\n",
    "    set_tags = model2['models'][variant]['set_sensor_tags']\n",
    "    set_tags_str = [str(t) for t in set_tags]\n",
    "    X = []\n",
    "    for tag in act_tags_str:\n",
    "        X.append(row[1][tag])\n",
    "    if np.any(np.isnan(X)):\n",
    "        print(\"Warning NaN found. Impossible to perform a prediction...\")\n",
    "        continue\n",
    "    scaler2.transform([X])\n",
    "    X+=[5,5,5,1,1,1]\n",
    "    X = np.asarray(X)\n",
    "    X = X.reshape(1,-1)\n",
    "    p2 = m2.predict(X)\n",
    "    res2 = dict(zip(set_tags, *p2))\n",
    "\n",
    "    #old model\n",
    "    old_preds = dict(zip(set_tags, *preds[preds['ID']==id_][set_tags_str].values))\n",
    "    \n",
    "    #recipe\n",
    "    aux_recipe = recipes[recipes['maein'] == variant][['ID', 'target_value', 'range_min', 'range_max']]\n",
    "    \n",
    "    sens_recipe = aux_recipe.loc[aux_recipe['ID'] == '704',['target_value', 'range_min', 'range_max']].values[0]\n",
    "    \n",
    "    worksheet = workbook.add_worksheet(f\"{id_}__{variant}\")\n",
    "    worksheet.write(0, 0, \"Variant:\")\n",
    "    worksheet.write(0, 1, variant)\n",
    "    worksheet.write(0, 3, \"Prediction ID:\")\n",
    "    worksheet.write(0, 4, id_)\n",
    "    \n",
    "    worksheet.write(2, 0, \"Sensor ID\")\n",
    "    worksheet.write(2, 1, \"Sensor name\")\n",
    "    worksheet.write(2, 2, \"RECIPE\")\n",
    "    worksheet.write(2, 3, \"OLD PREDICTION\")\n",
    "    worksheet.write(2, 4, \"MODEL NEW RATINGS\")\n",
    "    worksheet.write(2, 5, \"MODEL MISSING VAL\")\n",
    "    worksheet.write(2, 6, \"RANGE MIN\")\n",
    "    worksheet.write(2, 7, \"RANGE MAX\")\n",
    "    \n",
    "    n_line = 3\n",
    "    for sens_id in set_tags:\n",
    "        sens_recipe = aux_recipe.loc[aux_recipe['ID'] == str(sens_id),['target_value', 'range_min', 'range_max']].values[0]\n",
    "        worksheet.write(n_line, 0, sens_id)\n",
    "        worksheet.write(n_line, 1, sens_id_name[str(sens_id)])\n",
    "        worksheet.write(n_line, 2, sens_recipe[0])\n",
    "        worksheet.write(n_line, 3, f\"{old_preds[sens_id]:.2f}\")\n",
    "        worksheet.write(n_line, 4, f\"{res1[sens_id]:.2f}\")\n",
    "        worksheet.write(n_line, 5, f\"{res2[sens_id]:.2f}\")\n",
    "        worksheet.write(n_line, 6, sens_recipe[1])\n",
    "        worksheet.write(n_line, 7, sens_recipe[2])\n",
    "        n_line += 1\n",
    "        \n",
    "workbook.close()        "
   ]
  },
  {
   "cell_type": "markdown",
   "metadata": {},
   "source": [
    "---"
   ]
  },
  {
   "cell_type": "markdown",
   "metadata": {},
   "source": [
    "# Appendix"
   ]
  },
  {
   "cell_type": "markdown",
   "metadata": {},
   "source": [
    "## Ratings to h5"
   ]
  },
  {
   "cell_type": "code",
   "execution_count": null,
   "metadata": {},
   "outputs": [],
   "source": [
    "import requests\n",
    "from requests.auth import HTTPBasicAuth"
   ]
  },
  {
   "cell_type": "code",
   "execution_count": 36,
   "metadata": {},
   "outputs": [],
   "source": [
    "# TODO: Write the code that dinamically generates the url below using a list of sensors"
   ]
  },
  {
   "cell_type": "code",
   "execution_count": 1,
   "metadata": {},
   "outputs": [
    {
     "data": {
      "text/plain": [
       "\"http://10.41.55.140:8000/sap/opu/odata/sap/ZCAT_IOT_SRV/ZCAT_IFEX_V_MAEIN?$format=json&$filter=spras eq 'DE' and (param eq 'Speed_Main' or param eq 'Temp_Dry0_down' or param eq 'Temp_Dry1_up' or param eq 'Temp_Dry1_down' or param eq 'Temp_Dry2_up' or param eq 'Temp_Dry2_down' or param eq 'Temp_Dry3_up' or param eq 'Temp_Dry3_down' or param eq 'Temp_Dry4_up' or param eq 'Temp_Dry4_down' or param eq 'Temp_Dry5_up' or param eq 'Temp_Dry5_down' or param eq 'Temp_Dry6_up' or param eq 'Temp_Dry6_down' or param eq 'Temp_Dry7_up' or param eq 'Temp_Dry7_down' or param eq 'Temp_Dry8_up' or param eq 'Temp_Dry8_down' or param eq 'Temp_Dry9_up' or param eq 'Temp_Dry9_down' or param eq 'Temp_Dry10_up' or param eq 'Temp_Dry10_down' or param eq 'Taper_Rewind' or param eq 'Speed_Coat0' or param eq 'Speed_Coat1' or param eq 'Speed_Coat2' or param eq 'Speed_Coat3' or param eq 'Speed_Coat4' or param eq 'Speed_Coat5' or param eq 'Speed_Struct5' or param eq 'Power_Corona0' or param eq 'Power_Corona1')\""
      ]
     },
     "execution_count": 1,
     "metadata": {},
     "output_type": "execute_result"
    }
   ],
   "source": [
    "url = \"http://10.41.55.140:8000/sap/opu/odata/sap/ZCAT_IOT_SRV/ZCAT_IFEX_V_MAEIN?$format=json&$filter=spras eq 'DE' and (param eq 'Speed_Main' or param eq 'Temp_Dry0_down' or param eq 'Temp_Dry1_up' or param eq 'Temp_Dry1_down' or param eq 'Temp_Dry2_up' or param eq 'Temp_Dry2_down' or param eq 'Temp_Dry3_up' or param eq 'Temp_Dry3_down' or param eq 'Temp_Dry4_up' or param eq 'Temp_Dry4_down' or param eq 'Temp_Dry5_up' or param eq 'Temp_Dry5_down' or param eq 'Temp_Dry6_up' or param eq 'Temp_Dry6_down' or param eq 'Temp_Dry7_up' or param eq 'Temp_Dry7_down' or param eq 'Temp_Dry8_up' or param eq 'Temp_Dry8_down' or param eq 'Temp_Dry9_up' or param eq 'Temp_Dry9_down' or param eq 'Temp_Dry10_up' or param eq 'Temp_Dry10_down' or param eq 'Taper_Rewind' or param eq 'Speed_Coat0' or param eq 'Speed_Coat1' or param eq 'Speed_Coat2' or param eq 'Speed_Coat3' or param eq 'Speed_Coat4' or param eq 'Speed_Coat5' or param eq 'Speed_Struct5' or param eq 'Power_Corona0' or param eq 'Power_Corona1')\"\n",
    "url"
   ]
  },
  {
   "cell_type": "code",
   "execution_count": 3,
   "metadata": {},
   "outputs": [],
   "source": [
    "usr = \"USER\"\n",
    "pwd = \"SECRET_PASSWORD\"\n",
    "\n",
    "# Commented lines to avoid unwanted connections with wrong credentials\n",
    "#response = requests.get(url, auth=HTTPBasicAuth(usr, pwd)).text        \n",
    "#results = json.loads(response)"
   ]
  },
  {
   "cell_type": "code",
   "execution_count": null,
   "metadata": {},
   "outputs": [],
   "source": [
    "df = pd.DataFrame(results['d']['results'])\n",
    "df = df.drop(['__metadata'], axis=1)\n",
    "df[['target_value', 'dec_numb', 'dec_count', 'delta_max', 'delta_min', 'delta_alert_max',\n",
    "       'delta_alert_min']] = df[['target_value', 'dec_numb', 'dec_count', 'delta_max', 'delta_min', 'delta_alert_max',\n",
    "       'delta_alert_min']].apply(pd.to_numeric)\n",
    "df.head(5)"
   ]
  },
  {
   "cell_type": "code",
   "execution_count": null,
   "metadata": {},
   "outputs": [],
   "source": [
    "df.columns"
   ]
  },
  {
   "cell_type": "code",
   "execution_count": null,
   "metadata": {},
   "outputs": [],
   "source": [
    "df['ID'] = df.apply(lambda x: sens_id[x['param']], axis=1)\n",
    "df['name'] = df.apply(lambda x: sens_name[x['param']], axis=1)"
   ]
  },
  {
   "cell_type": "code",
   "execution_count": null,
   "metadata": {},
   "outputs": [],
   "source": [
    "def calc_min_ranges(row):\n",
    "    min_range = row['delta_min']\n",
    "    if row['dmin_active']:\n",
    "        if row['delta_percent']:\n",
    "            min_range = row['target_value'] * row['delta_min'] / 100\n",
    "        return row['target_value'] - min_range\n",
    "    else:\n",
    "        return \"-\"\n",
    "\n",
    "def calc_max_ranges(row):\n",
    "    max_range = row['delta_max']\n",
    "    if row['dmax_active']:\n",
    "        if row['delta_percent']:\n",
    "            max_range = row['target_value'] * row['delta_max'] / 100\n",
    "        return row['target_value'] + max_range\n",
    "    else:\n",
    "        return \"-\""
   ]
  },
  {
   "cell_type": "code",
   "execution_count": null,
   "metadata": {},
   "outputs": [],
   "source": [
    "df.loc[0, 'target_value'] * df.loc[0, 'delta_min'] / 100"
   ]
  },
  {
   "cell_type": "code",
   "execution_count": null,
   "metadata": {},
   "outputs": [],
   "source": [
    "df['range_min'] = df.apply(lambda x: calc_min_ranges(x), axis=1)\n",
    "df['range_max'] = df.apply(lambda x: calc_max_ranges(x), axis=1)"
   ]
  },
  {
   "cell_type": "code",
   "execution_count": null,
   "metadata": {},
   "outputs": [],
   "source": [
    "df.to_hdf(\"recipes_data.h5\", \"df\")"
   ]
  },
  {
   "cell_type": "markdown",
   "metadata": {},
   "source": [
    "---"
   ]
  },
  {
   "cell_type": "markdown",
   "metadata": {},
   "source": [
    "## GraphQL query"
   ]
  },
  {
   "cell_type": "markdown",
   "metadata": {},
   "source": [
    "```\n",
    "{\n",
    "  sensors {\n",
    "    externalId\n",
    "    name\n",
    "  }\n",
    "}\n",
    "```"
   ]
  }
 ],
 "metadata": {
  "kernelspec": {
   "display_name": "Python 3",
   "language": "python",
   "name": "python3"
  },
  "language_info": {
   "codemirror_mode": {
    "name": "ipython",
    "version": 3
   },
   "file_extension": ".py",
   "mimetype": "text/x-python",
   "name": "python",
   "nbconvert_exporter": "python",
   "pygments_lexer": "ipython3",
   "version": "3.6.8"
  }
 },
 "nbformat": 4,
 "nbformat_minor": 4
}
